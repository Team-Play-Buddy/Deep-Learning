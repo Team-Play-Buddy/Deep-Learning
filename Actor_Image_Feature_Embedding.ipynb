{
  "nbformat": 4,
  "nbformat_minor": 0,
  "metadata": {
    "colab": {
      "provenance": [],
      "toc_visible": true,
      "gpuType": "T4"
    },
    "kernelspec": {
      "name": "python3",
      "display_name": "Python 3"
    },
    "language_info": {
      "name": "python"
    },
    "accelerator": "GPU"
  },
  "cells": [
    {
      "cell_type": "markdown",
      "source": [
        "#### <b>KoCLIP 모델 불러오기</b>"
      ],
      "metadata": {
        "id": "J0OfC3u1u3O6"
      }
    },
    {
      "cell_type": "code",
      "execution_count": null,
      "metadata": {
        "id": "votK6UsVuGMn"
      },
      "outputs": [],
      "source": [
        "import torch\n",
        "from transformers import AutoModel, AutoProcessor\n",
        "\n",
        "# KoCLIP 모델 로드\n",
        "repo = \"Bingsu/clip-vit-large-patch14-ko\"\n",
        "model = AutoModel.from_pretrained(repo)\n",
        "processor = AutoProcessor.from_pretrained(repo)\n",
        "\n",
        "# GPU 사용 가능 여부 확인\n",
        "device = \"cuda\" if torch.cuda.is_available() else \"cpu\"\n",
        "model.to(device)\n",
        "\n",
        "print(f\"KoCLIP 모델이 {device}에서 로드됨\")"
      ]
    },
    {
      "cell_type": "markdown",
      "source": [
        "#### <b>이미지 다운로드 및 특징 추출 예시 코드</b>"
      ],
      "metadata": {
        "id": "v2KY_QptvanE"
      }
    },
    {
      "cell_type": "code",
      "source": [
        "import requests\n",
        "from PIL import Image\n",
        "from io import BytesIO\n",
        "\n",
        "def download_actor_image(actor_id):\n",
        "    \"\"\"배우 ID에 해당하는 이미지를 다운로드하여 PIL 이미지로 반환\"\"\"\n",
        "    img_url = f\"https://playbuddy.s3.ap-northeast-2.amazonaws.com/actors/{actor_id}/{actor_id}_1.jpg\"\n",
        "\n",
        "    try:\n",
        "        response = requests.get(img_url, timeout=5)\n",
        "        if response.status_code == 404:\n",
        "            print(f\"배우 {actor_id}: 이미지 없음 (404)\")\n",
        "            return None\n",
        "\n",
        "        image = Image.open(BytesIO(response.content)).convert(\"RGB\")\n",
        "        return image\n",
        "\n",
        "    except Exception as e:\n",
        "        print(f\"배우 {actor_id}: 이미지 다운로드 실패 - {e}\")\n",
        "        return None"
      ],
      "metadata": {
        "id": "GyvZVNequ21a"
      },
      "execution_count": null,
      "outputs": []
    },
    {
      "cell_type": "code",
      "source": [
        "import torch\n",
        "\n",
        "def extract_image_features(image):\n",
        "    \"\"\"KoCLIP을 이용해 이미지 특징 벡터(768차원)를 추출\"\"\"\n",
        "    try:\n",
        "        inputs = processor(images=image, return_tensors=\"pt\").to(device)\n",
        "        with torch.no_grad():\n",
        "            image_features = model.get_image_features(**inputs)\n",
        "        return image_features.cpu().numpy().flatten()\n",
        "\n",
        "    except Exception as e:\n",
        "        print(f\"이미지 특징 벡터 추출 실패 - {e}\")\n",
        "        return None"
      ],
      "metadata": {
        "id": "Zrn7PHYDvLxb"
      },
      "execution_count": null,
      "outputs": []
    },
    {
      "cell_type": "code",
      "source": [
        "actor_ids = range(1, 8001)  # 1번부터 8000번까지"
      ],
      "metadata": {
        "id": "7jmGqfL8vNhi"
      },
      "execution_count": null,
      "outputs": []
    },
    {
      "cell_type": "markdown",
      "source": [
        "* 단순히 <b>매 이미지</b>를 일일이 <b>KoCLIP</b>에 넣어 결과 반환\n",
        "* 정상적으로 동작하는 코드이지만, 너무 많은 시간이 소요됨"
      ],
      "metadata": {
        "id": "aUdAZzTZvg8d"
      }
    },
    {
      "cell_type": "code",
      "source": [
        "import numpy as np\n",
        "\n",
        "actor_vectors = {}\n",
        "\n",
        "for actor_id in actor_ids:\n",
        "    image = download_actor_image(actor_id)\n",
        "    if image is None:\n",
        "        continue  # 이미지가 없으면 건너뜀\n",
        "\n",
        "    features = extract_image_features(image)\n",
        "    if features is not None:\n",
        "        actor_vectors[actor_id] = features\n",
        "\n",
        "    # 100명 단위로 진행 상황 저장\n",
        "    if actor_id % 100 == 0:\n",
        "        np.save(\"actor_image_features.npy\", actor_vectors)\n",
        "        print(f\"{actor_id}번까지 저장 완료\")\n",
        "\n",
        "# 최종 저장\n",
        "np.save(\"actor_image_features.npy\", actor_vectors)\n",
        "print(\"모든 배우 벡터 저장 완료\")"
      ],
      "metadata": {
        "id": "4s5d3XYswKFc"
      },
      "execution_count": null,
      "outputs": []
    },
    {
      "cell_type": "markdown",
      "source": [
        "#### <b>임의의 500명에 대하여 배치 단위 특징 추출</b>"
      ],
      "metadata": {
        "id": "6dNsuPs4wjh9"
      }
    },
    {
      "cell_type": "code",
      "source": [
        "import numpy as np\n",
        "\n",
        "# 1번부터 8000번 사이에서 무작위로 500명의 배우 ID 선택\n",
        "np.random.seed(42)  # 재현 가능성을 위해 시드 설정\n",
        "actor_ids = np.random.choice(range(1, 8001), size=500, replace=False)\n",
        "\n",
        "print(f\"선택된 배우 ID 개수: {len(actor_ids)}\")\n",
        "print(\"일부 배우 ID 예시:\", actor_ids[:10])  # 처음 10개만 출력"
      ],
      "metadata": {
        "id": "k4xpw9GfvQPZ"
      },
      "execution_count": null,
      "outputs": []
    },
    {
      "cell_type": "code",
      "source": [
        "import requests\n",
        "from PIL import Image\n",
        "from io import BytesIO\n",
        "\n",
        "def download_actor_images(actor_batch):\n",
        "    \"\"\"이미지를 다운로드하여 배우 이미지 리스트(배치)에 삽입\"\"\"\n",
        "    images, valid_actor_ids = [], []\n",
        "\n",
        "    for actor_id in actor_batch:\n",
        "        img_url = f\"https://playbuddy.s3.ap-northeast-2.amazonaws.com/actors/{actor_id}/{actor_id}_1.jpg\"\n",
        "\n",
        "        try:\n",
        "            response = requests.get(img_url, timeout=5)\n",
        "            if response.status_code == 404:\n",
        "                continue  # 이미지 없음\n",
        "\n",
        "            image = Image.open(BytesIO(response.content)).convert(\"RGB\")\n",
        "            images.append(image)\n",
        "            valid_actor_ids.append(actor_id)\n",
        "\n",
        "        except Exception as e:\n",
        "            print(f\"배우 {actor_id}: 이미지 다운로드 실패 - {e}\")\n",
        "\n",
        "    return images, valid_actor_ids"
      ],
      "metadata": {
        "id": "KS04x_Kkw1BI"
      },
      "execution_count": null,
      "outputs": []
    },
    {
      "cell_type": "code",
      "source": [
        "def extract_batch_features(images):\n",
        "    \"\"\"배치 단위로 이미지 특징 벡터를 추출\"\"\"\n",
        "    try:\n",
        "        inputs = processor(images=images, return_tensors=\"pt\", padding=True).to(device)\n",
        "        with torch.no_grad():\n",
        "            image_features = model.get_image_features(**inputs)\n",
        "        return image_features.cpu().numpy()\n",
        "\n",
        "    except Exception as e:\n",
        "        print(f\"배치 특징 벡터 추출 실패 - {e}\")\n",
        "        return None"
      ],
      "metadata": {
        "id": "9pjv4Ms0w2qZ"
      },
      "execution_count": null,
      "outputs": []
    },
    {
      "cell_type": "code",
      "source": [
        "batch_size = 16\n",
        "actor_vectors = {}\n",
        "\n",
        "for i in range(0, len(actor_ids), batch_size):\n",
        "    actor_batch = actor_ids[i : i + batch_size]\n",
        "    images, valid_actor_ids = download_actor_images(actor_batch)\n",
        "\n",
        "    if not images:\n",
        "        continue  # 이미지가 하나도 없으면 건너뜀\n",
        "\n",
        "    features = extract_batch_features(images)\n",
        "    if features is not None:\n",
        "        for j, actor_id in enumerate(valid_actor_ids):\n",
        "            actor_vectors[actor_id] = features[j]\n",
        "\n",
        "    print(f\"{i + len(valid_actor_ids)}명 처리 완료\")\n",
        "\n",
        "# 최종 저장\n",
        "np.save(\"actor_image_features_500.npy\", actor_vectors)\n",
        "print(\"500명 배우 벡터 저장 완료\")"
      ],
      "metadata": {
        "id": "vXypoIQvw6Le"
      },
      "execution_count": null,
      "outputs": []
    },
    {
      "cell_type": "markdown",
      "source": [
        "#### <b>배우 이미지 유사도 측정 결과 확인</b>"
      ],
      "metadata": {
        "id": "cFQS-zZSzaS_"
      }
    },
    {
      "cell_type": "code",
      "source": [
        "from scipy.spatial.distance import cosine\n",
        "\n",
        "def find_similar_actors(target_actor_id, top_k=3):\n",
        "    \"\"\"특정 배우와 유사한 최대 top_k명의 배우 찾기\"\"\"\n",
        "    if target_actor_id not in actor_vectors:\n",
        "        print(f\"배우 {target_actor_id}의 벡터 정보가 없습니다.\")\n",
        "        return []\n",
        "\n",
        "    target_vector = actor_vectors[target_actor_id]\n",
        "    similarities = []\n",
        "\n",
        "    for actor_id, vector in actor_vectors.items():\n",
        "        if actor_id == target_actor_id:\n",
        "            continue\n",
        "        similarity = 1 - cosine(target_vector, vector)  # 코사인 유사도 (1에 가까울수록 유사)\n",
        "        similarities.append((actor_id, similarity))\n",
        "\n",
        "    # 유사도 기준으로 정렬 후 상위 top_k명 반환\n",
        "    similarities.sort(key=lambda x: x[1], reverse=True)\n",
        "    return similarities[:top_k]"
      ],
      "metadata": {
        "id": "voBOqGDixHfY"
      },
      "execution_count": null,
      "outputs": []
    },
    {
      "cell_type": "code",
      "source": [
        "import matplotlib.pyplot as plt\n",
        "\n",
        "def show_similar_actors(target_actor_id):\n",
        "    \"\"\"특정 배우와 유사한 배우 3명의 사진을 시각화\"\"\"\n",
        "    similar_actors = find_similar_actors(target_actor_id)\n",
        "\n",
        "    if not similar_actors:\n",
        "        print(\"유사 배우를 찾을 수 없습니다.\")\n",
        "        return\n",
        "\n",
        "    actor_list = [target_actor_id] + [actor[0] for actor in similar_actors]\n",
        "    fig, axes = plt.subplots(1, len(actor_list), figsize=(15, 5))\n",
        "\n",
        "    for i, actor_id in enumerate(actor_list):\n",
        "        img_url = f\"https://playbuddy.s3.ap-northeast-2.amazonaws.com/actors/{actor_id}/{actor_id}_1.jpg\"\n",
        "        response = requests.get(img_url)\n",
        "        if response.status_code == 404:\n",
        "            axes[i].text(0.5, 0.5, f\"Actor {actor_id} 없음\", ha=\"center\", va=\"center\")\n",
        "            axes[i].axis(\"off\")\n",
        "            continue\n",
        "\n",
        "        image = Image.open(BytesIO(response.content)).convert(\"RGB\")\n",
        "        axes[i].imshow(image)\n",
        "        axes[i].set_title(f\"Actor {actor_id}\")\n",
        "        axes[i].axis(\"off\")\n",
        "\n",
        "    plt.show()\n",
        "\n",
        "# 예제 실행 (유사 배우 찾기)\n",
        "show_similar_actors(target_actor_id=2216)"
      ],
      "metadata": {
        "id": "3oYLJyBWxOTE"
      },
      "execution_count": null,
      "outputs": []
    },
    {
      "cell_type": "code",
      "source": [
        "show_similar_actors(target_actor_id=2583)"
      ],
      "metadata": {
        "id": "HR6UYFn7xXOq"
      },
      "execution_count": null,
      "outputs": []
    },
    {
      "cell_type": "code",
      "source": [
        "show_similar_actors(target_actor_id=1663)"
      ],
      "metadata": {
        "id": "hP1Jzwp-zXfe"
      },
      "execution_count": null,
      "outputs": []
    },
    {
      "cell_type": "code",
      "source": [
        "show_similar_actors(target_actor_id=3028)"
      ],
      "metadata": {
        "id": "XcwC7E7XzrVZ"
      },
      "execution_count": null,
      "outputs": []
    },
    {
      "cell_type": "code",
      "source": [
        "show_similar_actors(target_actor_id=2681)"
      ],
      "metadata": {
        "id": "h50RM1VVzt3M"
      },
      "execution_count": null,
      "outputs": []
    },
    {
      "cell_type": "code",
      "source": [
        "show_similar_actors(target_actor_id=4055)"
      ],
      "metadata": {
        "id": "18k5nMILzvsX"
      },
      "execution_count": null,
      "outputs": []
    },
    {
      "cell_type": "code",
      "source": [
        "show_similar_actors(target_actor_id=3762)"
      ],
      "metadata": {
        "id": "M8x7fB95zxd1"
      },
      "execution_count": null,
      "outputs": []
    },
    {
      "cell_type": "markdown",
      "source": [
        "#### <b>CSV에 특징 벡터 저장 및 불러와 테스트하기</b>"
      ],
      "metadata": {
        "id": "dCxetPy50GjD"
      }
    },
    {
      "cell_type": "code",
      "source": [
        "import csv\n",
        "\n",
        "csv_filename = \"actor_image_features_500.csv\"\n",
        "\n",
        "with open(csv_filename, mode=\"w\", newline=\"\") as file:\n",
        "    writer = csv.writer(file)\n",
        "\n",
        "    # CSV 헤더\n",
        "    writer.writerow([\"actor_id\", \"profile_url\", \"features\"])\n",
        "\n",
        "    # 데이터 저장\n",
        "    for actor_id, vector in actor_vectors.items():\n",
        "        profile_url = f\"https://playbuddy.s3.ap-northeast-2.amazonaws.com/actors/{actor_id}/{actor_id}_1.jpg\"\n",
        "        features_str = \",\".join(map(str, vector))  # 리스트를 문자열로 변환\n",
        "        writer.writerow([actor_id, profile_url, features_str])\n",
        "\n",
        "print(f\"CSV 파일 저장 완료: {csv_filename}\")"
      ],
      "metadata": {
        "id": "srPOL5f6zyun"
      },
      "execution_count": null,
      "outputs": []
    },
    {
      "cell_type": "code",
      "source": [
        "actor_vectors = {}\n",
        "\n",
        "with open(csv_filename, mode=\"r\") as file:\n",
        "    reader = csv.reader(file)\n",
        "    next(reader)  # 헤더 스킵\n",
        "\n",
        "    for row in reader:\n",
        "        actor_id = int(row[0])\n",
        "        profile_url = row[1]\n",
        "        features = np.array(list(map(float, row[2].split(\",\"))))  # 문자열을 벡터로 변환\n",
        "        actor_vectors[actor_id] = (profile_url, features)\n",
        "\n",
        "print(f\"CSV에서 {len(actor_vectors)}명의 배우 벡터 로드 완료\")"
      ],
      "metadata": {
        "id": "F2K5CXQg0VF4"
      },
      "execution_count": null,
      "outputs": []
    },
    {
      "cell_type": "code",
      "source": [
        "from scipy.spatial.distance import cosine\n",
        "\n",
        "def find_similar_actors(target_actor_id, top_k=3):\n",
        "    \"\"\"특정 배우와 유사한 최대 top_k명의 배우 찾기\"\"\"\n",
        "    if target_actor_id not in actor_vectors:\n",
        "        print(f\"배우 {target_actor_id}의 벡터 정보가 없습니다.\")\n",
        "        return []\n",
        "\n",
        "    target_vector = actor_vectors[target_actor_id][1]  # 벡터만 가져오기\n",
        "    similarities = []\n",
        "\n",
        "    for actor_id, (profile_url, vector) in actor_vectors.items():\n",
        "        if actor_id == target_actor_id:\n",
        "            continue\n",
        "        similarity = 1 - cosine(target_vector, vector)  # 코사인 유사도 (1에 가까울수록 유사)\n",
        "        similarities.append((actor_id, profile_url, similarity))\n",
        "\n",
        "    # 유사도 기준으로 정렬 후 상위 top_k명 반환\n",
        "    similarities.sort(key=lambda x: x[2], reverse=True)\n",
        "    return similarities[:top_k]"
      ],
      "metadata": {
        "id": "EfagwlSe0WMa"
      },
      "execution_count": null,
      "outputs": []
    },
    {
      "cell_type": "code",
      "source": [
        "import matplotlib.pyplot as plt\n",
        "\n",
        "def show_similar_actors(target_actor_id):\n",
        "    \"\"\"특정 배우와 유사한 배우 3명의 사진을 시각화\"\"\"\n",
        "    similar_actors = find_similar_actors(target_actor_id)\n",
        "\n",
        "    if not similar_actors:\n",
        "        print(\"유사 배우를 찾을 수 없습니다.\")\n",
        "        return\n",
        "\n",
        "    actor_list = [(target_actor_id, actor_vectors[target_actor_id][0])] + similar_actors\n",
        "    fig, axes = plt.subplots(1, len(actor_list), figsize=(15, 5))\n",
        "\n",
        "    for i, (actor_id, profile_url, *_) in enumerate(actor_list):\n",
        "        response = requests.get(profile_url)\n",
        "        if response.status_code == 404:\n",
        "            axes[i].text(0.5, 0.5, f\"Actor {actor_id} 없음\", ha=\"center\", va=\"center\")\n",
        "            axes[i].axis(\"off\")\n",
        "            continue\n",
        "\n",
        "        image = Image.open(BytesIO(response.content)).convert(\"RGB\")\n",
        "        axes[i].imshow(image)\n",
        "        axes[i].set_title(f\"Actor {actor_id}\")\n",
        "        axes[i].axis(\"off\")\n",
        "\n",
        "    plt.show()\n",
        "\n",
        "# 예제 실행\n",
        "show_similar_actors(target_actor_id=3762)"
      ],
      "metadata": {
        "id": "IvTz8BRm0XeV"
      },
      "execution_count": null,
      "outputs": []
    },
    {
      "cell_type": "markdown",
      "source": [
        "#### <b>전체 이미지에 대한 특징 추출 예시</b>"
      ],
      "metadata": {
        "id": "8IvzUZTF0nfX"
      }
    },
    {
      "cell_type": "code",
      "source": [
        "actor_ids = list(range(1, 8001))  # 1번부터 8000번까지\n",
        "print(f\"총 배우 수: {len(actor_ids)}\")"
      ],
      "metadata": {
        "id": "Y2bk6sYc0YuZ"
      },
      "execution_count": null,
      "outputs": []
    },
    {
      "cell_type": "code",
      "source": [
        "batch_size = 64\n",
        "actor_vectors = {}\n",
        "\n",
        "for i in range(0, len(actor_ids), batch_size):\n",
        "    actor_batch = actor_ids[i : i + batch_size]\n",
        "    images, valid_actor_ids = download_actor_images(actor_batch)\n",
        "\n",
        "    if not images:\n",
        "        continue  # 이미지가 하나도 없으면 건너뜀\n",
        "\n",
        "    features = extract_batch_features(images)\n",
        "    if features is not None:\n",
        "        for j, actor_id in enumerate(valid_actor_ids):\n",
        "            actor_vectors[actor_id] = features[j]\n",
        "\n",
        "    print(f\"{i + len(valid_actor_ids)}/{len(actor_ids)}명 처리 완료\")\n",
        "\n",
        "print(\"모든 배우 데이터 추출 완료!\")"
      ],
      "metadata": {
        "id": "JTpa4Yfd3-ew"
      },
      "execution_count": null,
      "outputs": []
    },
    {
      "cell_type": "code",
      "source": [
        "csv_filename = \"actor_image_features_8000.csv\"\n",
        "\n",
        "with open(csv_filename, mode=\"w\", newline=\"\") as file:\n",
        "    writer = csv.writer(file)\n",
        "    writer.writerow([\"actor_id\", \"profile_url\", \"features\"])\n",
        "\n",
        "    for actor_id, vector in actor_vectors.items():\n",
        "        profile_url = f\"https://playbuddy.s3.ap-northeast-2.amazonaws.com/actors/{actor_id}/{actor_id}_1.jpg\"\n",
        "        features_str = \",\".join(map(str, vector))\n",
        "        writer.writerow([actor_id, profile_url, features_str])\n",
        "\n",
        "print(f\"CSV 파일 저장 완료: {csv_filename}\")"
      ],
      "metadata": {
        "id": "3FcZKd1M0sDk"
      },
      "execution_count": null,
      "outputs": []
    },
    {
      "cell_type": "markdown",
      "source": [
        "#### <b>JavaScript를 활용하여 동일하게 이미지 유사도 분석</b>\n",
        "\n",
        "* JavaScript 개발자에게 전달하기 위한 목적의 코드"
      ],
      "metadata": {
        "id": "fb-KUNvV1B-Q"
      }
    },
    {
      "cell_type": "code",
      "source": [
        "!apt-get install -y nodejs npm  # Node.js 및 npm 설치\n",
        "!npm install csv-parser cosine-similarity  # 필요한 패키지 설치"
      ],
      "metadata": {
        "id": "SFG9rrsE0xRZ"
      },
      "execution_count": null,
      "outputs": []
    },
    {
      "cell_type": "code",
      "source": [
        "js_code = \"\"\"\n",
        "const fs = require(\"fs\");\n",
        "const csv = require(\"csv-parser\");\n",
        "const cosineSimilarity = require(\"cosine-similarity\");\n",
        "\n",
        "const actorData = {}; // { actor_id: { profileUrl, features } }\n",
        "\n",
        "fs.createReadStream(\"actor_image_features_8000.csv\")\n",
        "  .pipe(csv())\n",
        "  .on(\"data\", (row) => {\n",
        "    const actorId = parseInt(row.actor_id);\n",
        "    const profileUrl = row.profile_url;\n",
        "    const features = row.features.split(\",\").map(Number);\n",
        "    actorData[actorId] = { profileUrl, features };\n",
        "  })\n",
        "  .on(\"end\", () => {\n",
        "    console.log(`총 ${Object.keys(actorData).length}명의 배우 데이터 로드 완료!`);\n",
        "    findSimilarActors(1);  // 특정 배우와 유사한 배우 찾기 실행\n",
        "  });\n",
        "\n",
        "function findSimilarActors(targetActorId, topK = 3) {\n",
        "  if (!actorData[targetActorId]) {\n",
        "    console.log(`배우 ${targetActorId}ㅁ의 데이터가 없습니다.`);\n",
        "    return;\n",
        "  }\n",
        "\n",
        "  const targetProfileUrl = actorData[targetActorId].profileUrl;\n",
        "  console.log(`\\\\n🔹 배우 ${targetActorId}의 프로필 이미지: ${targetProfileUrl}\\\\n`);\n",
        "\n",
        "  const targetVector = actorData[targetActorId].features;\n",
        "  const similarities = [];\n",
        "\n",
        "  for (const [actorId, { profileUrl, features }] of Object.entries(actorData)) {\n",
        "    if (parseInt(actorId) === targetActorId) continue;\n",
        "    const similarity = cosineSimilarity(targetVector, features);\n",
        "    similarities.push({ actorId: parseInt(actorId), profileUrl, similarity });\n",
        "  }\n",
        "\n",
        "  similarities.sort((a, b) => b.similarity - a.similarity);\n",
        "  const topActors = similarities.slice(0, topK);\n",
        "\n",
        "  console.log(`배우 ${targetActorId}와 가장 유사한 ${topK}명의 배우:`);\n",
        "  console.table(topActors);\n",
        "}\n",
        "\"\"\"\n",
        "\n",
        "# JavaScript 코드 파일 생성\n",
        "with open(\"actor_similarity.js\", \"w\") as f:\n",
        "    f.write(js_code)\n",
        "\n",
        "print(\"✅ JavaScript 코드 파일 생성 완료: actor_similarity.js\")"
      ],
      "metadata": {
        "id": "_rTXcLTg1ZUx"
      },
      "execution_count": null,
      "outputs": []
    },
    {
      "cell_type": "code",
      "source": [
        "%%shell\n",
        "node actor_similarity.js"
      ],
      "metadata": {
        "id": "77uRP4c52PMb"
      },
      "execution_count": null,
      "outputs": []
    }
  ]
}